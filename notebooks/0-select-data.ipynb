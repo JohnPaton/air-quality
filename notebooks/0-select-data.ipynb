{
 "cells": [
  {
   "cell_type": "code",
   "execution_count": 1,
   "metadata": {},
   "outputs": [],
   "source": [
    "import pandas as pd\n",
    "from tqdm import tqdm_notebook \n",
    "import numpy as np \n",
    "\n",
    "import glob\n",
    "import os"
   ]
  },
  {
   "cell_type": "code",
   "execution_count": 2,
   "metadata": {},
   "outputs": [
    {
     "name": "stdout",
     "output_type": "stream",
     "text": [
      "\u001b[1m\u001b[36mdb\u001b[m\u001b[m        \u001b[1m\u001b[36minterim\u001b[m\u001b[m   \u001b[1m\u001b[36mprocessed\u001b[m\u001b[m \u001b[1m\u001b[36mraw\u001b[m\u001b[m       \u001b[1m\u001b[36mraw_new\u001b[m\u001b[m\r\n"
     ]
    }
   ],
   "source": [
    "data_dir = '../data'\n",
    "!ls $data_dir"
   ]
  },
  {
   "cell_type": "code",
   "execution_count": 3,
   "metadata": {},
   "outputs": [],
   "source": [
    "raw_dir = data_dir+'/raw/openaq'"
   ]
  },
  {
   "cell_type": "code",
   "execution_count": 4,
   "metadata": {},
   "outputs": [
    {
     "data": {
      "text/html": [
       "<div>\n",
       "<style scoped>\n",
       "    .dataframe tbody tr th:only-of-type {\n",
       "        vertical-align: middle;\n",
       "    }\n",
       "\n",
       "    .dataframe tbody tr th {\n",
       "        vertical-align: top;\n",
       "    }\n",
       "\n",
       "    .dataframe thead th {\n",
       "        text-align: right;\n",
       "    }\n",
       "</style>\n",
       "<table border=\"1\" class=\"dataframe\">\n",
       "  <thead>\n",
       "    <tr style=\"text-align: right;\">\n",
       "      <th></th>\n",
       "      <th>location</th>\n",
       "      <th>city</th>\n",
       "      <th>country</th>\n",
       "      <th>utc</th>\n",
       "      <th>local</th>\n",
       "      <th>parameter</th>\n",
       "      <th>value</th>\n",
       "      <th>unit</th>\n",
       "      <th>latitude</th>\n",
       "      <th>longitude</th>\n",
       "      <th>attribution</th>\n",
       "    </tr>\n",
       "  </thead>\n",
       "  <tbody>\n",
       "    <tr>\n",
       "      <th>0</th>\n",
       "      <td>Punjabi Bagh</td>\n",
       "      <td>Delhi</td>\n",
       "      <td>IN</td>\n",
       "      <td>2015-06-29T00:30:00.000Z</td>\n",
       "      <td>2015-06-29T06:00:00+05:30</td>\n",
       "      <td>so2</td>\n",
       "      <td>4.9</td>\n",
       "      <td>Âµg/mÂ³</td>\n",
       "      <td>28.6683</td>\n",
       "      <td>77.1167</td>\n",
       "      <td>NaN</td>\n",
       "    </tr>\n",
       "    <tr>\n",
       "      <th>1</th>\n",
       "      <td>Punjabi Bagh</td>\n",
       "      <td>Delhi</td>\n",
       "      <td>IN</td>\n",
       "      <td>2015-06-29T00:30:00.000Z</td>\n",
       "      <td>2015-06-29T06:00:00+05:30</td>\n",
       "      <td>pm25</td>\n",
       "      <td>25.0</td>\n",
       "      <td>Âµg/mÂ³</td>\n",
       "      <td>28.6683</td>\n",
       "      <td>77.1167</td>\n",
       "      <td>NaN</td>\n",
       "    </tr>\n",
       "    <tr>\n",
       "      <th>2</th>\n",
       "      <td>Punjabi Bagh</td>\n",
       "      <td>Delhi</td>\n",
       "      <td>IN</td>\n",
       "      <td>2015-06-29T00:30:00.000Z</td>\n",
       "      <td>2015-06-29T06:00:00+05:30</td>\n",
       "      <td>pm10</td>\n",
       "      <td>56.0</td>\n",
       "      <td>Âµg/mÂ³</td>\n",
       "      <td>28.6683</td>\n",
       "      <td>77.1167</td>\n",
       "      <td>NaN</td>\n",
       "    </tr>\n",
       "    <tr>\n",
       "      <th>3</th>\n",
       "      <td>Punjabi Bagh</td>\n",
       "      <td>Delhi</td>\n",
       "      <td>IN</td>\n",
       "      <td>2015-06-29T00:30:00.000Z</td>\n",
       "      <td>2015-06-29T06:00:00+05:30</td>\n",
       "      <td>o3</td>\n",
       "      <td>13.9</td>\n",
       "      <td>Âµg/mÂ³</td>\n",
       "      <td>28.6683</td>\n",
       "      <td>77.1167</td>\n",
       "      <td>NaN</td>\n",
       "    </tr>\n",
       "    <tr>\n",
       "      <th>4</th>\n",
       "      <td>Punjabi Bagh</td>\n",
       "      <td>Delhi</td>\n",
       "      <td>IN</td>\n",
       "      <td>2015-06-29T00:30:00.000Z</td>\n",
       "      <td>2015-06-29T06:00:00+05:30</td>\n",
       "      <td>no2</td>\n",
       "      <td>17.8</td>\n",
       "      <td>Âµg/mÂ³</td>\n",
       "      <td>28.6683</td>\n",
       "      <td>77.1167</td>\n",
       "      <td>NaN</td>\n",
       "    </tr>\n",
       "  </tbody>\n",
       "</table>\n",
       "</div>"
      ],
      "text/plain": [
       "       location   city country                       utc  \\\n",
       "0  Punjabi Bagh  Delhi      IN  2015-06-29T00:30:00.000Z   \n",
       "1  Punjabi Bagh  Delhi      IN  2015-06-29T00:30:00.000Z   \n",
       "2  Punjabi Bagh  Delhi      IN  2015-06-29T00:30:00.000Z   \n",
       "3  Punjabi Bagh  Delhi      IN  2015-06-29T00:30:00.000Z   \n",
       "4  Punjabi Bagh  Delhi      IN  2015-06-29T00:30:00.000Z   \n",
       "\n",
       "                       local parameter  value     unit  latitude  longitude  \\\n",
       "0  2015-06-29T06:00:00+05:30       so2    4.9  Âµg/mÂ³   28.6683    77.1167   \n",
       "1  2015-06-29T06:00:00+05:30      pm25   25.0  Âµg/mÂ³   28.6683    77.1167   \n",
       "2  2015-06-29T06:00:00+05:30      pm10   56.0  Âµg/mÂ³   28.6683    77.1167   \n",
       "3  2015-06-29T06:00:00+05:30        o3   13.9  Âµg/mÂ³   28.6683    77.1167   \n",
       "4  2015-06-29T06:00:00+05:30       no2   17.8  Âµg/mÂ³   28.6683    77.1167   \n",
       "\n",
       "   attribution  \n",
       "0          NaN  \n",
       "1          NaN  \n",
       "2          NaN  \n",
       "3          NaN  \n",
       "4          NaN  "
      ]
     },
     "execution_count": 4,
     "metadata": {},
     "output_type": "execute_result"
    }
   ],
   "source": [
    "first_csv = glob.glob(raw_dir+'/*.csv')[0]\n",
    "df = pd.read_csv(first_csv, parse_dates=True)\n",
    "df.head()"
   ]
  },
  {
   "cell_type": "code",
   "execution_count": 5,
   "metadata": {},
   "outputs": [
    {
     "data": {
      "text/html": [
       "<div>\n",
       "<style scoped>\n",
       "    .dataframe tbody tr th:only-of-type {\n",
       "        vertical-align: middle;\n",
       "    }\n",
       "\n",
       "    .dataframe tbody tr th {\n",
       "        vertical-align: top;\n",
       "    }\n",
       "\n",
       "    .dataframe thead th {\n",
       "        text-align: right;\n",
       "    }\n",
       "</style>\n",
       "<table border=\"1\" class=\"dataframe\">\n",
       "  <thead>\n",
       "    <tr style=\"text-align: right;\">\n",
       "      <th></th>\n",
       "      <th>location</th>\n",
       "      <th>city</th>\n",
       "      <th>country</th>\n",
       "      <th>utc</th>\n",
       "      <th>local</th>\n",
       "      <th>parameter</th>\n",
       "      <th>value</th>\n",
       "      <th>unit</th>\n",
       "      <th>latitude</th>\n",
       "      <th>longitude</th>\n",
       "      <th>attribution</th>\n",
       "    </tr>\n",
       "  </thead>\n",
       "  <tbody>\n",
       "    <tr>\n",
       "      <th>0</th>\n",
       "      <td>Punjabi Bagh</td>\n",
       "      <td>Delhi</td>\n",
       "      <td>IN</td>\n",
       "      <td>2015-06-29T00:30:00.000Z</td>\n",
       "      <td>2015-06-29T06:00:00+05:30</td>\n",
       "      <td>so2</td>\n",
       "      <td>4.9</td>\n",
       "      <td>Âµg/mÂ³</td>\n",
       "      <td>28.6683</td>\n",
       "      <td>77.1167</td>\n",
       "      <td>NaN</td>\n",
       "    </tr>\n",
       "    <tr>\n",
       "      <th>1</th>\n",
       "      <td>Punjabi Bagh</td>\n",
       "      <td>Delhi</td>\n",
       "      <td>IN</td>\n",
       "      <td>2015-06-29T00:30:00.000Z</td>\n",
       "      <td>2015-06-29T06:00:00+05:30</td>\n",
       "      <td>pm25</td>\n",
       "      <td>25.0</td>\n",
       "      <td>Âµg/mÂ³</td>\n",
       "      <td>28.6683</td>\n",
       "      <td>77.1167</td>\n",
       "      <td>NaN</td>\n",
       "    </tr>\n",
       "    <tr>\n",
       "      <th>2</th>\n",
       "      <td>Punjabi Bagh</td>\n",
       "      <td>Delhi</td>\n",
       "      <td>IN</td>\n",
       "      <td>2015-06-29T00:30:00.000Z</td>\n",
       "      <td>2015-06-29T06:00:00+05:30</td>\n",
       "      <td>pm10</td>\n",
       "      <td>56.0</td>\n",
       "      <td>Âµg/mÂ³</td>\n",
       "      <td>28.6683</td>\n",
       "      <td>77.1167</td>\n",
       "      <td>NaN</td>\n",
       "    </tr>\n",
       "    <tr>\n",
       "      <th>3</th>\n",
       "      <td>Punjabi Bagh</td>\n",
       "      <td>Delhi</td>\n",
       "      <td>IN</td>\n",
       "      <td>2015-06-29T00:30:00.000Z</td>\n",
       "      <td>2015-06-29T06:00:00+05:30</td>\n",
       "      <td>o3</td>\n",
       "      <td>13.9</td>\n",
       "      <td>Âµg/mÂ³</td>\n",
       "      <td>28.6683</td>\n",
       "      <td>77.1167</td>\n",
       "      <td>NaN</td>\n",
       "    </tr>\n",
       "    <tr>\n",
       "      <th>4</th>\n",
       "      <td>Punjabi Bagh</td>\n",
       "      <td>Delhi</td>\n",
       "      <td>IN</td>\n",
       "      <td>2015-06-29T00:30:00.000Z</td>\n",
       "      <td>2015-06-29T06:00:00+05:30</td>\n",
       "      <td>no2</td>\n",
       "      <td>17.8</td>\n",
       "      <td>Âµg/mÂ³</td>\n",
       "      <td>28.6683</td>\n",
       "      <td>77.1167</td>\n",
       "      <td>NaN</td>\n",
       "    </tr>\n",
       "  </tbody>\n",
       "</table>\n",
       "</div>"
      ],
      "text/plain": [
       "       location   city country                       utc  \\\n",
       "0  Punjabi Bagh  Delhi      IN  2015-06-29T00:30:00.000Z   \n",
       "1  Punjabi Bagh  Delhi      IN  2015-06-29T00:30:00.000Z   \n",
       "2  Punjabi Bagh  Delhi      IN  2015-06-29T00:30:00.000Z   \n",
       "3  Punjabi Bagh  Delhi      IN  2015-06-29T00:30:00.000Z   \n",
       "4  Punjabi Bagh  Delhi      IN  2015-06-29T00:30:00.000Z   \n",
       "\n",
       "                       local parameter  value     unit  latitude  longitude  \\\n",
       "0  2015-06-29T06:00:00+05:30       so2    4.9  Âµg/mÂ³   28.6683    77.1167   \n",
       "1  2015-06-29T06:00:00+05:30      pm25   25.0  Âµg/mÂ³   28.6683    77.1167   \n",
       "2  2015-06-29T06:00:00+05:30      pm10   56.0  Âµg/mÂ³   28.6683    77.1167   \n",
       "3  2015-06-29T06:00:00+05:30        o3   13.9  Âµg/mÂ³   28.6683    77.1167   \n",
       "4  2015-06-29T06:00:00+05:30       no2   17.8  Âµg/mÂ³   28.6683    77.1167   \n",
       "\n",
       "   attribution  \n",
       "0          NaN  \n",
       "1          NaN  \n",
       "2          NaN  \n",
       "3          NaN  \n",
       "4          NaN  "
      ]
     },
     "execution_count": 5,
     "metadata": {},
     "output_type": "execute_result"
    }
   ],
   "source": [
    "df.head()"
   ]
  },
  {
   "cell_type": "code",
   "execution_count": 6,
   "metadata": {},
   "outputs": [
    {
     "data": {
      "text/html": [
       "<div>\n",
       "<style scoped>\n",
       "    .dataframe tbody tr th:only-of-type {\n",
       "        vertical-align: middle;\n",
       "    }\n",
       "\n",
       "    .dataframe tbody tr th {\n",
       "        vertical-align: top;\n",
       "    }\n",
       "\n",
       "    .dataframe thead th {\n",
       "        text-align: right;\n",
       "    }\n",
       "</style>\n",
       "<table border=\"1\" class=\"dataframe\">\n",
       "  <thead>\n",
       "    <tr style=\"text-align: right;\">\n",
       "      <th></th>\n",
       "      <th>location</th>\n",
       "      <th>city</th>\n",
       "      <th>country</th>\n",
       "      <th>utc</th>\n",
       "      <th>local</th>\n",
       "      <th>parameter</th>\n",
       "      <th>value</th>\n",
       "      <th>unit</th>\n",
       "      <th>latitude</th>\n",
       "      <th>longitude</th>\n",
       "      <th>attribution</th>\n",
       "    </tr>\n",
       "  </thead>\n",
       "  <tbody>\n",
       "  </tbody>\n",
       "</table>\n",
       "</div>"
      ],
      "text/plain": [
       "Empty DataFrame\n",
       "Columns: [location, city, country, utc, local, parameter, value, unit, latitude, longitude, attribution]\n",
       "Index: []"
      ]
     },
     "execution_count": 6,
     "metadata": {},
     "output_type": "execute_result"
    }
   ],
   "source": [
    "df[df['city'] == 'Amsterdam']"
   ]
  },
  {
   "cell_type": "markdown",
   "metadata": {},
   "source": [
    "**TODO**: Get this into a database"
   ]
  },
  {
   "cell_type": "code",
   "execution_count": 7,
   "metadata": {},
   "outputs": [
    {
     "data": {
      "application/vnd.jupyter.widget-view+json": {
       "model_id": "e322443c2f1349be801ab32c199a7de4",
       "version_major": 2,
       "version_minor": 0
      },
      "text/plain": [
       "HBox(children=(IntProgress(value=0, max=1199), HTML(value='')))"
      ]
     },
     "metadata": {},
     "output_type": "display_data"
    },
    {
     "name": "stdout",
     "output_type": "stream",
     "text": [
      "\n"
     ]
    }
   ],
   "source": [
    "csvs = glob.glob(raw_dir+'/*.csv')\n",
    "df_ams_list = []\n",
    "for csv in tqdm_notebook(csvs):\n",
    "    df = pd.read_csv(csv)\n",
    "    if 'city' not in df.columns:\n",
    "        continue\n",
    "        \n",
    "    cond = df['city'] == 'Amsterdam'\n",
    "    if cond.any():\n",
    "        df_ams_list.append(df[cond])"
   ]
  },
  {
   "cell_type": "code",
   "execution_count": 8,
   "metadata": {},
   "outputs": [
    {
     "data": {
      "text/plain": [
       "976"
      ]
     },
     "execution_count": 8,
     "metadata": {},
     "output_type": "execute_result"
    }
   ],
   "source": [
    "len(df_ams_list)"
   ]
  },
  {
   "cell_type": "code",
   "execution_count": 9,
   "metadata": {},
   "outputs": [],
   "source": [
    "df_ams = pd.concat(df_ams_list)"
   ]
  },
  {
   "cell_type": "code",
   "execution_count": 10,
   "metadata": {},
   "outputs": [
    {
     "data": {
      "text/plain": [
       "776212"
      ]
     },
     "execution_count": 10,
     "metadata": {},
     "output_type": "execute_result"
    }
   ],
   "source": [
    "len(df_ams)"
   ]
  },
  {
   "cell_type": "code",
   "execution_count": 11,
   "metadata": {},
   "outputs": [],
   "source": [
    "df_ams = df_ams.set_index('local')\n",
    "df_ams.index = pd.to_datetime(df_ams.index)"
   ]
  },
  {
   "cell_type": "code",
   "execution_count": 12,
   "metadata": {},
   "outputs": [
    {
     "data": {
      "text/html": [
       "<div>\n",
       "<style scoped>\n",
       "    .dataframe tbody tr th:only-of-type {\n",
       "        vertical-align: middle;\n",
       "    }\n",
       "\n",
       "    .dataframe tbody tr th {\n",
       "        vertical-align: top;\n",
       "    }\n",
       "\n",
       "    .dataframe thead th {\n",
       "        text-align: right;\n",
       "    }\n",
       "</style>\n",
       "<table border=\"1\" class=\"dataframe\">\n",
       "  <thead>\n",
       "    <tr style=\"text-align: right;\">\n",
       "      <th></th>\n",
       "      <th>location</th>\n",
       "      <th>city</th>\n",
       "      <th>country</th>\n",
       "      <th>utc</th>\n",
       "      <th>parameter</th>\n",
       "      <th>value</th>\n",
       "      <th>unit</th>\n",
       "      <th>latitude</th>\n",
       "      <th>longitude</th>\n",
       "      <th>attribution</th>\n",
       "    </tr>\n",
       "    <tr>\n",
       "      <th>local</th>\n",
       "      <th></th>\n",
       "      <th></th>\n",
       "      <th></th>\n",
       "      <th></th>\n",
       "      <th></th>\n",
       "      <th></th>\n",
       "      <th></th>\n",
       "      <th></th>\n",
       "      <th></th>\n",
       "      <th></th>\n",
       "    </tr>\n",
       "  </thead>\n",
       "  <tbody>\n",
       "    <tr>\n",
       "      <th>2015-09-14 04:00:00</th>\n",
       "      <td>Amsterdam-Van Diemenstraat</td>\n",
       "      <td>Amsterdam</td>\n",
       "      <td>NL</td>\n",
       "      <td>2015-09-14T04:00:00.000Z</td>\n",
       "      <td>no2</td>\n",
       "      <td>16.2</td>\n",
       "      <td>Âµg/mÂ³</td>\n",
       "      <td>52.3900</td>\n",
       "      <td>4.88781</td>\n",
       "      <td>[{\"name\":\"RIVM\",\"url\":\"http://www.lml.rivm.nl/...</td>\n",
       "    </tr>\n",
       "    <tr>\n",
       "      <th>2015-09-14 04:00:00</th>\n",
       "      <td>Amsterdam-Kantershof (Zuid Oost)</td>\n",
       "      <td>Amsterdam</td>\n",
       "      <td>NL</td>\n",
       "      <td>2015-09-14T04:00:00.000Z</td>\n",
       "      <td>no2</td>\n",
       "      <td>9.3</td>\n",
       "      <td>Âµg/mÂ³</td>\n",
       "      <td>52.3207</td>\n",
       "      <td>4.98840</td>\n",
       "      <td>[{\"name\":\"RIVM\",\"url\":\"http://www.lml.rivm.nl/...</td>\n",
       "    </tr>\n",
       "    <tr>\n",
       "      <th>2015-09-14 04:00:00</th>\n",
       "      <td>Amsterdam-Vondelpark</td>\n",
       "      <td>Amsterdam</td>\n",
       "      <td>NL</td>\n",
       "      <td>2015-09-14T04:00:00.000Z</td>\n",
       "      <td>no2</td>\n",
       "      <td>9.6</td>\n",
       "      <td>Âµg/mÂ³</td>\n",
       "      <td>52.3597</td>\n",
       "      <td>4.86621</td>\n",
       "      <td>[{\"name\":\"RIVM\",\"url\":\"http://www.lml.rivm.nl/...</td>\n",
       "    </tr>\n",
       "    <tr>\n",
       "      <th>2015-09-14 04:00:00</th>\n",
       "      <td>Amsterdam-Haarlemmerweg</td>\n",
       "      <td>Amsterdam</td>\n",
       "      <td>NL</td>\n",
       "      <td>2015-09-14T04:00:00.000Z</td>\n",
       "      <td>no2</td>\n",
       "      <td>23.6</td>\n",
       "      <td>Âµg/mÂ³</td>\n",
       "      <td>52.3854</td>\n",
       "      <td>4.87575</td>\n",
       "      <td>[{\"name\":\"RIVM\",\"url\":\"http://www.lml.rivm.nl/...</td>\n",
       "    </tr>\n",
       "    <tr>\n",
       "      <th>2015-09-14 04:00:00</th>\n",
       "      <td>Amsterdam-Oude Schans</td>\n",
       "      <td>Amsterdam</td>\n",
       "      <td>NL</td>\n",
       "      <td>2015-09-14T04:00:00.000Z</td>\n",
       "      <td>no2</td>\n",
       "      <td>11.0</td>\n",
       "      <td>Âµg/mÂ³</td>\n",
       "      <td>52.3721</td>\n",
       "      <td>4.90440</td>\n",
       "      <td>[{\"name\":\"RIVM\",\"url\":\"http://www.lml.rivm.nl/...</td>\n",
       "    </tr>\n",
       "  </tbody>\n",
       "</table>\n",
       "</div>"
      ],
      "text/plain": [
       "                                             location       city country  \\\n",
       "local                                                                      \n",
       "2015-09-14 04:00:00        Amsterdam-Van Diemenstraat  Amsterdam      NL   \n",
       "2015-09-14 04:00:00  Amsterdam-Kantershof (Zuid Oost)  Amsterdam      NL   \n",
       "2015-09-14 04:00:00              Amsterdam-Vondelpark  Amsterdam      NL   \n",
       "2015-09-14 04:00:00           Amsterdam-Haarlemmerweg  Amsterdam      NL   \n",
       "2015-09-14 04:00:00             Amsterdam-Oude Schans  Amsterdam      NL   \n",
       "\n",
       "                                          utc parameter  value     unit  \\\n",
       "local                                                                     \n",
       "2015-09-14 04:00:00  2015-09-14T04:00:00.000Z       no2   16.2  Âµg/mÂ³   \n",
       "2015-09-14 04:00:00  2015-09-14T04:00:00.000Z       no2    9.3  Âµg/mÂ³   \n",
       "2015-09-14 04:00:00  2015-09-14T04:00:00.000Z       no2    9.6  Âµg/mÂ³   \n",
       "2015-09-14 04:00:00  2015-09-14T04:00:00.000Z       no2   23.6  Âµg/mÂ³   \n",
       "2015-09-14 04:00:00  2015-09-14T04:00:00.000Z       no2   11.0  Âµg/mÂ³   \n",
       "\n",
       "                     latitude  longitude  \\\n",
       "local                                      \n",
       "2015-09-14 04:00:00   52.3900    4.88781   \n",
       "2015-09-14 04:00:00   52.3207    4.98840   \n",
       "2015-09-14 04:00:00   52.3597    4.86621   \n",
       "2015-09-14 04:00:00   52.3854    4.87575   \n",
       "2015-09-14 04:00:00   52.3721    4.90440   \n",
       "\n",
       "                                                           attribution  \n",
       "local                                                                   \n",
       "2015-09-14 04:00:00  [{\"name\":\"RIVM\",\"url\":\"http://www.lml.rivm.nl/...  \n",
       "2015-09-14 04:00:00  [{\"name\":\"RIVM\",\"url\":\"http://www.lml.rivm.nl/...  \n",
       "2015-09-14 04:00:00  [{\"name\":\"RIVM\",\"url\":\"http://www.lml.rivm.nl/...  \n",
       "2015-09-14 04:00:00  [{\"name\":\"RIVM\",\"url\":\"http://www.lml.rivm.nl/...  \n",
       "2015-09-14 04:00:00  [{\"name\":\"RIVM\",\"url\":\"http://www.lml.rivm.nl/...  "
      ]
     },
     "execution_count": 12,
     "metadata": {},
     "output_type": "execute_result"
    }
   ],
   "source": [
    "df_ams.head()"
   ]
  },
  {
   "cell_type": "code",
   "execution_count": 13,
   "metadata": {},
   "outputs": [],
   "source": [
    "df_ams.to_csv('../data/interim/aq_amsterdam.csv')"
   ]
  },
  {
   "cell_type": "code",
   "execution_count": null,
   "metadata": {},
   "outputs": [],
   "source": []
  }
 ],
 "metadata": {
  "kernelspec": {
   "display_name": "Python 3",
   "language": "python",
   "name": "python3"
  },
  "language_info": {
   "codemirror_mode": {
    "name": "ipython",
    "version": 3
   },
   "file_extension": ".py",
   "mimetype": "text/x-python",
   "name": "python",
   "nbconvert_exporter": "python",
   "pygments_lexer": "ipython3",
   "version": "3.6.6"
  }
 },
 "nbformat": 4,
 "nbformat_minor": 2
}
